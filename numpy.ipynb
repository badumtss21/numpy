{
 "cells": [
  {
   "cell_type": "code",
   "execution_count": 1,
   "id": "83886bd7",
   "metadata": {},
   "outputs": [
    {
     "name": "stdout",
     "output_type": "stream",
     "text": [
      "1.23.1\n",
      "openblas64__info:\n",
      "    library_dirs = ['D:\\\\a\\\\numpy\\\\numpy\\\\build\\\\openblas64__info']\n",
      "    libraries = ['openblas64__info']\n",
      "    language = f77\n",
      "    define_macros = [('HAVE_CBLAS', None), ('BLAS_SYMBOL_SUFFIX', '64_'), ('HAVE_BLAS_ILP64', None)]\n",
      "blas_ilp64_opt_info:\n",
      "    library_dirs = ['D:\\\\a\\\\numpy\\\\numpy\\\\build\\\\openblas64__info']\n",
      "    libraries = ['openblas64__info']\n",
      "    language = f77\n",
      "    define_macros = [('HAVE_CBLAS', None), ('BLAS_SYMBOL_SUFFIX', '64_'), ('HAVE_BLAS_ILP64', None)]\n",
      "openblas64__lapack_info:\n",
      "    library_dirs = ['D:\\\\a\\\\numpy\\\\numpy\\\\build\\\\openblas64__lapack_info']\n",
      "    libraries = ['openblas64__lapack_info']\n",
      "    language = f77\n",
      "    define_macros = [('HAVE_CBLAS', None), ('BLAS_SYMBOL_SUFFIX', '64_'), ('HAVE_BLAS_ILP64', None), ('HAVE_LAPACKE', None)]\n",
      "lapack_ilp64_opt_info:\n",
      "    library_dirs = ['D:\\\\a\\\\numpy\\\\numpy\\\\build\\\\openblas64__lapack_info']\n",
      "    libraries = ['openblas64__lapack_info']\n",
      "    language = f77\n",
      "    define_macros = [('HAVE_CBLAS', None), ('BLAS_SYMBOL_SUFFIX', '64_'), ('HAVE_BLAS_ILP64', None), ('HAVE_LAPACKE', None)]\n",
      "Supported SIMD extensions in this NumPy install:\n",
      "    baseline = SSE,SSE2,SSE3\n",
      "    found = SSSE3,SSE41,POPCNT,SSE42,AVX,F16C,FMA3,AVX2\n",
      "    not found = AVX512F,AVX512CD,AVX512_SKX,AVX512_CLX,AVX512_CNL,AVX512_ICL\n",
      "None\n"
     ]
    }
   ],
   "source": [
    "#ejercicio 1. Escriba un programa NumPy para obtener la versión numpy y mostrar la configuración de compilación numpy\n",
    "import numpy as np\n",
    "print(np.__version__)\n",
    "print(np.show_config())"
   ]
  },
  {
   "cell_type": "code",
   "execution_count": null,
   "id": "208c65d2",
   "metadata": {},
   "outputs": [],
   "source": []
  },
  {
   "cell_type": "code",
   "execution_count": 1,
   "id": "5487518e",
   "metadata": {},
   "outputs": [
    {
     "name": "stdout",
     "output_type": "stream",
     "text": [
      "add(x1, x2, /, out=None, *, where=True, casting='same_kind', order='K', dtype=None, subok=True[, signature, extobj])\n",
      "\n",
      "Add arguments element-wise.\n",
      "\n",
      "Parameters\n",
      "----------\n",
      "x1, x2 : array_like\n",
      "    The arrays to be added.\n",
      "    If ``x1.shape != x2.shape``, they must be broadcastable to a common\n",
      "    shape (which becomes the shape of the output).\n",
      "out : ndarray, None, or tuple of ndarray and None, optional\n",
      "    A location into which the result is stored. If provided, it must have\n",
      "    a shape that the inputs broadcast to. If not provided or None,\n",
      "    a freshly-allocated array is returned. A tuple (possible only as a\n",
      "    keyword argument) must have length equal to the number of outputs.\n",
      "where : array_like, optional\n",
      "    This condition is broadcast over the input. At locations where the\n",
      "    condition is True, the `out` array will be set to the ufunc result.\n",
      "    Elsewhere, the `out` array will retain its original value.\n",
      "    Note that if an uninitialized `out` array is created via the default\n",
      "    ``out=None``, locations within it where the condition is False will\n",
      "    remain uninitialized.\n",
      "**kwargs\n",
      "    For other keyword-only arguments, see the\n",
      "    :ref:`ufunc docs <ufuncs.kwargs>`.\n",
      "\n",
      "Returns\n",
      "-------\n",
      "add : ndarray or scalar\n",
      "    The sum of `x1` and `x2`, element-wise.\n",
      "    This is a scalar if both `x1` and `x2` are scalars.\n",
      "\n",
      "Notes\n",
      "-----\n",
      "Equivalent to `x1` + `x2` in terms of array broadcasting.\n",
      "\n",
      "Examples\n",
      "--------\n",
      ">>> np.add(1.0, 4.0)\n",
      "5.0\n",
      ">>> x1 = np.arange(9.0).reshape((3, 3))\n",
      ">>> x2 = np.arange(3.0)\n",
      ">>> np.add(x1, x2)\n",
      "array([[  0.,   2.,   4.],\n",
      "       [  3.,   5.,   7.],\n",
      "       [  6.,   8.,  10.]])\n",
      "\n",
      "The ``+`` operator can be used as a shorthand for ``np.add`` on ndarrays.\n",
      "\n",
      ">>> x1 = np.arange(9.0).reshape((3, 3))\n",
      ">>> x2 = np.arange(3.0)\n",
      ">>> x1 + x2\n",
      "array([[ 0.,  2.,  4.],\n",
      "       [ 3.,  5.,  7.],\n",
      "       [ 6.,  8., 10.]])\n",
      "None\n"
     ]
    }
   ],
   "source": [
    "#ejercicio 2. Escriba un programa NumPy para obtener ayuda sobre la función de agregar.\n",
    "import numpy as np\n",
    "print(np.info(np.add))"
   ]
  },
  {
   "cell_type": "code",
   "execution_count": 2,
   "id": "4a8b2aad",
   "metadata": {},
   "outputs": [
    {
     "name": "stdout",
     "output_type": "stream",
     "text": [
      "matriz original:\n",
      "[[14 10 11 13]\n",
      " [ 1 13 11  5]\n",
      " [ 8  6 15  5]]\n",
      "Prueba si ninguno de los elementos de dicha matriz es cero:\n",
      "True\n"
     ]
    }
   ],
   "source": [
    "#ejercicio 3. Escriba un programa NumPy para probar si ninguno de los elementos de una matriz dada es cero.\n",
    "import numpy as np\n",
    "a=np.random.randint(20, size=(3, 4))\n",
    "print(\"matriz original:\")\n",
    "print(a)\n",
    "print(\"Prueba si ninguno de los elementos de dicha matriz es cero:\")\n",
    "print(np.all(a))"
   ]
  },
  {
   "cell_type": "code",
   "execution_count": 3,
   "id": "56b1bc7b",
   "metadata": {},
   "outputs": [
    {
     "name": "stdout",
     "output_type": "stream",
     "text": [
      "matriz original:\n",
      "[1 0 0 0]\n",
      "Pruebe si alguno de los elementos de una matriz dada es distinto de cero:\n",
      "True\n",
      "matriz original:\n",
      "[0 0 0 0]\n",
      "Pruebe si alguno de los elementos de una matriz dada es distinto de cero:\n",
      "False\n"
     ]
    }
   ],
   "source": [
    "#ejercicio 4. Escriba un programa NumPy para probar si alguno de los elementos de una matriz dada es distinto de cero.\n",
    "import numpy as np\n",
    "x = np.array([1, 0, 0, 0])\n",
    "print(\"matriz original:\")\n",
    "print(x)\n",
    "print(\"Pruebe si alguno de los elementos de una matriz dada es distinto de cero:\")\n",
    "print(np.any(x))\n",
    "x = np.array([0, 0, 0, 0])\n",
    "print(\"matriz original:\")\n",
    "print(x)\n",
    "print(\"Pruebe si alguno de los elementos de una matriz dada es distinto de cero:\")\n",
    "print(np.any(x))"
   ]
  },
  {
   "cell_type": "code",
   "execution_count": 4,
   "id": "d5bc67b4",
   "metadata": {},
   "outputs": [
    {
     "name": "stdout",
     "output_type": "stream",
     "text": [
      "matriz original:\n",
      "[ 1.  0. nan inf]\n",
      "Pruebe la finitud de una matriz dada por elementos:\n",
      "[ True  True False False]\n"
     ]
    }
   ],
   "source": [
    "#ejercicio 5. Escriba un programa NumPy para probar una matriz dada en cuanto a elementos \n",
    "#para la finitud (no infinito o no un número).\n",
    "import numpy as np\n",
    "a = np.array([1, 0, np.nan, np.inf])\n",
    "print(\"matriz original:\")\n",
    "print(a)\n",
    "print(\"Pruebe la finitud de una matriz dada por elementos:\")\n",
    "print(np.isfinite(a))"
   ]
  },
  {
   "cell_type": "code",
   "execution_count": 5,
   "id": "2f0639e4",
   "metadata": {},
   "outputs": [
    {
     "name": "stdout",
     "output_type": "stream",
     "text": [
      "matriz original:\n",
      "[ 1.  0. nan inf]\n",
      "Pruebe elementos sabios para infinito positivo o negativo:\n",
      "[False False False  True]\n"
     ]
    }
   ],
   "source": [
    "#ejercicio 6. Escriba un programa NumPy para probar el infinito positivo o negativo en cuanto a elementos.\n",
    "import numpy as np\n",
    "a = np.array([1, 0, np.nan, np.inf])\n",
    "print(\"matriz original:\")\n",
    "print(a)\n",
    "print(\"Pruebe elementos sabios para infinito positivo o negativo:\")\n",
    "print(np.isinf(a))"
   ]
  },
  {
   "cell_type": "code",
   "execution_count": 6,
   "id": "bc593af6",
   "metadata": {},
   "outputs": [
    {
     "name": "stdout",
     "output_type": "stream",
     "text": [
      "matriz original:\n",
      "[ 1.  0. nan inf]\n",
      "Pruebe los elementos para NaN:\n",
      "[False False  True False]\n"
     ]
    }
   ],
   "source": [
    "#ejercicio 7. Escriba un programa NumPy para probar el NaN de una matriz determinada en cuanto a elementos.\n",
    "import numpy as np\n",
    "a = np.array([1, 0, np.nan, np.inf])\n",
    "print(\"matriz original:\")\n",
    "print(a)\n",
    "print(\"Pruebe los elementos para NaN:\")\n",
    "print(np.isnan(a))"
   ]
  },
  {
   "cell_type": "code",
   "execution_count": 8,
   "id": "552c1aa1",
   "metadata": {},
   "outputs": [
    {
     "name": "stdout",
     "output_type": "stream",
     "text": [
      "matriz original:\n",
      "[1. +4.j 1. +0.j 4.5+0.j 8. +0.j 2. +0.j 0. +1.j]\n",
      "Comprobación de número complejo:\n",
      "[ True False False False False  True]\n",
      "Comprobación de número real:\n",
      "[False  True  True  True  True False]\n",
      "Comprobando el tipo escalar:\n",
      "True\n",
      "False\n"
     ]
    }
   ],
   "source": [
    "#ejercicio 8. Escriba un programa NumPy para probar en cuanto a elementos el número complejo, \n",
    "#el número real de una matriz dada. También pruebe si un número dado es de tipo escalar o no.\n",
    "import numpy as np\n",
    "a = np.array([1+4j, 1+0j, 4.5, 8, 2, 1j])\n",
    "print(\"matriz original:\")\n",
    "print(a)\n",
    "print(\"Comprobación de número complejo:\")\n",
    "print(np.iscomplex(a))\n",
    "print(\"Comprobación de número real:\")\n",
    "print(np.isreal(a))\n",
    "print(\"Comprobando el tipo escalar:\")\n",
    "print(np.isscalar(2))\n",
    "print(np.isscalar([2]))"
   ]
  },
  {
   "cell_type": "code",
   "execution_count": 9,
   "id": "eff4bdb5",
   "metadata": {},
   "outputs": [
    {
     "name": "stdout",
     "output_type": "stream",
     "text": [
      "Pruebe si dos matrices son iguales en cuanto a elementos dentro de una tolerancia:\n",
      "False\n",
      "True\n",
      "False\n",
      "False\n",
      "True\n"
     ]
    }
   ],
   "source": [
    "#ejercicio 9. Escriba un programa NumPy para probar si dos matrices son iguales a elementos dentro de una tolerancia.\n",
    "import numpy as np\n",
    "print(\"Pruebe si dos matrices son iguales en cuanto a elementos dentro de una tolerancia:\")\n",
    "print(np.allclose([1e10,1e-7], [1.00001e10,1e-8]))\n",
    "print(np.allclose([1e10,1e-8], [1.00001e10,1e-9]))\n",
    "print(np.allclose([1e10,1e-8], [1.0001e10,1e-9]))\n",
    "print(np.allclose([1.0, np.nan], [1.0, np.nan]))\n",
    "print(np.allclose([1.0, np.nan], [1.0, np.nan], equal_nan=True))"
   ]
  },
  {
   "cell_type": "code",
   "execution_count": 10,
   "id": "5b651e6f",
   "metadata": {},
   "outputs": [
    {
     "name": "stdout",
     "output_type": "stream",
     "text": [
      "Números originales:\n",
      "[3 5]\n",
      "[2 5]\n",
      "Comparación mayor\n",
      "[ True False]\n",
      "Comparación mayor igual\n",
      "[ True  True]\n",
      "Comparación menor\n",
      "[False False]\n",
      "Comparación menor igual\n",
      "[False  True]\n"
     ]
    }
   ],
   "source": [
    "#ejercicio 10. Escriba un programa NumPy para crear una comparación de elementos (mayor, mayor_igual, menor y menor_igual)\n",
    "# de dos matrices dadas.\n",
    "import numpy as np\n",
    "x = np.array([4, 5])\n",
    "y = np.array([2, 5])\n",
    "print(\"Números originales:\")\n",
    "print(x)\n",
    "print(y)\n",
    "print(\"Comparación mayor\")\n",
    "print(np.greater(x, y))\n",
    "print(\"Comparación mayor igual\")\n",
    "print(np.greater_equal(x, y))\n",
    "print(\"Comparación menor\")\n",
    "print(np.less(x, y))\n",
    "print(\"Comparación menor igual\")\n",
    "print(np.less_equal(x, y))"
   ]
  },
  {
   "cell_type": "code",
   "execution_count": 13,
   "id": "649e0a09",
   "metadata": {},
   "outputs": [
    {
     "name": "stdout",
     "output_type": "stream",
     "text": [
      "Números originales:\n",
      "[   2   79   85   34  150 -135  120  -10   60  100]\n",
      "[   2.       79.       85.       34.      150.     -135.      120.\n",
      "  -10.       60.      100.0001]\n",
      "Comparando si es igual:\n",
      "[ True  True  True  True  True  True  True  True  True False]\n",
      "Comparando si es igual dentro de una tolerancia:\n",
      "True\n"
     ]
    }
   ],
   "source": [
    "#ejercicio 11. Escriba un programa NumPy para crear una comparación de elementos (igual, igual dentro de una tolerancia)\n",
    "# de dos matrices dadas.\n",
    "import numpy as np\n",
    "x = np.array([2, 79, 85, 34, 150, -135, 120, -10, 60, 100])\n",
    "y = np.array([2, 79, 85, 34, 150, -135, 120, -10, 60, 100.0001])\n",
    "print(\"Números originales:\")\n",
    "print(x)\n",
    "print(y)\n",
    "print(\"Comparando si es igual:\")\n",
    "print(np.equal(x, y))\n",
    "print(\"Comparando si es igual dentro de una tolerancia:\")\n",
    "print(np.allclose(x, y))"
   ]
  },
  {
   "cell_type": "code",
   "execution_count": 14,
   "id": "c26cb836",
   "metadata": {},
   "outputs": [
    {
     "name": "stdout",
     "output_type": "stream",
     "text": [
      "Matriz original:\n",
      "[  1   7  13 105]\n",
      "Tamaño de la memoria ocupada por dicha matriz\n",
      "16 bytes\n"
     ]
    }
   ],
   "source": [
    "#ejercicio 12 Escriba un programa NumPy para crear una matriz con los valores 1, 7, 13, 105.\n",
    "# y determine el tamaño de la memoria ocupada por la matriz\n",
    "import numpy as np\n",
    "X = np.array([1, 7, 13, 105])\n",
    "print(\"Matriz original:\")\n",
    "print(X)\n",
    "print(\"Tamaño de la memoria ocupada por dicha matriz\")\n",
    "print(\"%d bytes\" % (X.size * X.itemsize))"
   ]
  },
  {
   "cell_type": "code",
   "execution_count": 15,
   "id": "090edfd4",
   "metadata": {},
   "outputs": [
    {
     "name": "stdout",
     "output_type": "stream",
     "text": [
      "Una matriz de 10 ceros:\n",
      "[0. 0. 0. 0. 0. 0. 0. 0. 0. 0.]\n",
      "Una matriz de 10 unos:\n",
      "[1. 1. 1. 1. 1. 1. 1. 1. 1. 1.]\n",
      "Una matriz de 10 cincos:\n",
      "[5. 5. 5. 5. 5. 5. 5. 5. 5. 5.]\n"
     ]
    }
   ],
   "source": [
    "#ejercicio 13. Escriba un programa NumPy para crear una matriz de 10 ceros, 10 unos, 10 cincos.\n",
    "import numpy as np\n",
    "array=np.zeros(10)\n",
    "print(\"Una matriz de 10 ceros:\")\n",
    "print(array)\n",
    "array=np.ones(10)\n",
    "print(\"Una matriz de 10 unos:\")\n",
    "print(array)\n",
    "array=np.ones(10)*5\n",
    "print(\"Una matriz de 10 cincos:\")\n",
    "print(array)"
   ]
  },
  {
   "cell_type": "code",
   "execution_count": 16,
   "id": "b1e3c210",
   "metadata": {},
   "outputs": [
    {
     "name": "stdout",
     "output_type": "stream",
     "text": [
      "Matriz de los enteros de 30 a 70\n",
      "[30 31 32 33 34 35 36 37 38 39 40 41 42 43 44 45 46 47 48 49 50 51 52 53\n",
      " 54 55 56 57 58 59 60 61 62 63 64 65 66 67 68 69 70]\n"
     ]
    }
   ],
   "source": [
    "#ejercicio 14. Escriba un programa NumPy para crear una matriz de números enteros del 30 al 70.\n",
    "import numpy as np\n",
    "array=np.arange(30,71)\n",
    "print(\"Matriz de los enteros de 30 a 70\")\n",
    "print(array)"
   ]
  },
  {
   "cell_type": "code",
   "execution_count": 17,
   "id": "184d624e",
   "metadata": {},
   "outputs": [
    {
     "name": "stdout",
     "output_type": "stream",
     "text": [
      "Matriz de todos los enteros pares del 30 al 70\n",
      "[30 32 34 36 38 40 42 44 46 48 50 52 54 56 58 60 62 64 66 68 70]\n"
     ]
    }
   ],
   "source": [
    "#ejercicio 15. Escriba un programa NumPy para crear una matriz de todos los enteros pares del 30 al 70.\n",
    "import numpy as np\n",
    "array=np.arange(30,71,2)\n",
    "print(\"Matriz de todos los enteros pares del 30 al 70\")\n",
    "print(array)"
   ]
  },
  {
   "cell_type": "code",
   "execution_count": 19,
   "id": "f44221e3",
   "metadata": {},
   "outputs": [
    {
     "name": "stdout",
     "output_type": "stream",
     "text": [
      "matriz 3x3:\n",
      "[[1. 0. 0.]\n",
      " [0. 1. 0.]\n",
      " [0. 0. 1.]]\n"
     ]
    }
   ],
   "source": [
    "#ejercicio 16. Escriba un programa NumPy para crear una matriz de identidad de 3x3\n",
    "import numpy as np\n",
    "array2D=np.identity(3)\n",
    "print('matriz 3x3:')\n",
    "print(array2D)"
   ]
  },
  {
   "cell_type": "code",
   "execution_count": 20,
   "id": "621b1666",
   "metadata": {},
   "outputs": [
    {
     "name": "stdout",
     "output_type": "stream",
     "text": [
      "Número aleatorio entre 0 y 1:\n",
      "[0.04542748]\n"
     ]
    }
   ],
   "source": [
    "#ejercicio 17. Escriba un programa NumPy para generar un número aleatorio entre 0 y 1.\n",
    "import numpy as np\n",
    "rand_num = np.random.normal(0,1,1)\n",
    "print(\"Número aleatorio entre 0 y 1:\")\n",
    "print(rand_num)"
   ]
  },
  {
   "cell_type": "code",
   "execution_count": 21,
   "id": "41469185",
   "metadata": {},
   "outputs": [
    {
     "name": "stdout",
     "output_type": "stream",
     "text": [
      "15 números aleatorios de una distribución normal estándar:\n",
      "[ 1.61016368 -0.34619423  0.37611875  1.12530808  0.84879271 -0.28518702\n",
      "  0.62949279  1.1651849   1.23240937 -0.41701684 -0.49118365 -1.75758188\n",
      " -0.07169907  1.6610131   0.07275637]\n"
     ]
    }
   ],
   "source": [
    "#ejercicio 18. Escriba un programa NumPy para generar una matriz de 15 números aleatorios \n",
    "#a partir de una distribución normal estándar.\n",
    "import numpy as np\n",
    "rand_num = np.random.normal(0,1,15)\n",
    "print(\"15 números aleatorios de una distribución normal estándar:\")\n",
    "print(rand_num)"
   ]
  },
  {
   "cell_type": "code",
   "execution_count": 22,
   "id": "96058e92",
   "metadata": {},
   "outputs": [
    {
     "name": "stdout",
     "output_type": "stream",
     "text": [
      "vector Original:\n",
      "[15 16 17 18 19 20 21 22 23 24 25 26 27 28 29 30 31 32 33 34 35 36 37 38\n",
      " 39 40 41 42 43 44 45 46 47 48 49 50 51 52 53 54]\n",
      "Todos los valores excepto el primero y el último de dicho vector:\n",
      "[16 17 18 19 20 21 22 23 24 25 26 27 28 29 30 31 32 33 34 35 36 37 38 39\n",
      " 40 41 42 43 44 45 46 47 48 49 50 51 52 53]\n"
     ]
    }
   ],
   "source": [
    "#ejercicio 19. Escriba un programa NumPy para crear un vector con valores que oscilen entre 15 y 55.\n",
    "#e imprima todos los valores excepto el primero y el último\n",
    "import numpy as np\n",
    "v = np.arange(15,55)\n",
    "print(\"vector Original:\")\n",
    "print(v)\n",
    "print(\"Todos los valores excepto el primero y el último de dicho vector:\")\n",
    "print(v[1:-1])"
   ]
  },
  {
   "cell_type": "code",
   "execution_count": 23,
   "id": "c654f1f9",
   "metadata": {},
   "outputs": [
    {
     "name": "stdout",
     "output_type": "stream",
     "text": [
      "Matriz Original:\n",
      "[[10 11 12 13]\n",
      " [14 15 16 17]\n",
      " [18 19 20 21]]\n",
      "Cada elemento de la matriz es:\n",
      "10 11 12 13 14 15 16 17 18 19 20 21 "
     ]
    }
   ],
   "source": [
    "#ejercicio 20. Escriba un programa NumPy para crear una matriz de 3X4 usándola e itera sobre ella\n",
    "import numpy as np\n",
    "a = np.arange(10,22).reshape((3, 4))\n",
    "print(\"Matriz Original:\")\n",
    "print(a)\n",
    "print(\"Cada elemento de la matriz es:\")\n",
    "for x in np.nditer(a):\n",
    "  print(x,end=\" \")"
   ]
  },
  {
   "cell_type": "code",
   "execution_count": 25,
   "id": "cdfe006b",
   "metadata": {},
   "outputs": [
    {
     "name": "stdout",
     "output_type": "stream",
     "text": [
      "Longitud 10 con valores distribuidos uniformemente entre 5 y 50:\n",
      "[ 5.          9.88888889 14.77777778 19.66666667 24.55555556 29.44444444\n",
      " 34.33333333 39.22222222 44.11111111 49.        ]\n"
     ]
    }
   ],
   "source": [
    "#ejercicio 21. Escriba un programa NumPy para crear un vector de longitud 10 \n",
    "#con valores distribuidos uniformemente entre 5 y 50.\n",
    "import numpy as np\n",
    "v = np.linspace(5, 49, 10)\n",
    "print(\"Longitud 10 con valores distribuidos uniformemente entre 5 y 50:\")\n",
    "print(v)"
   ]
  },
  {
   "cell_type": "code",
   "execution_count": 26,
   "id": "362c1d56",
   "metadata": {},
   "outputs": [
    {
     "name": "stdout",
     "output_type": "stream",
     "text": [
      "vector Original:\n",
      "[ 0  1  2  3  4  5  6  7  8  9 10 11 12 13 14 15 16 17 18 19 20]\n",
      "cambiar el signo de los números en el rango de 9 a 15:\n",
      "[  0   1   2   3   4   5   6   7   8  -9 -10 -11 -12 -13 -14 -15  16  17\n",
      "  18  19  20]\n"
     ]
    }
   ],
   "source": [
    "#ejercicio 22. Escriba un programa NumPy para crear un vector con valores de 0 a 20 \n",
    "#y cambie el signo de los números en el rango de 9 a 15.\n",
    "import numpy as np\n",
    "x = np.arange(21)\n",
    "print(\"vector Original:\")\n",
    "print(x)\n",
    "print(\"cambiar el signo de los números en el rango de 9 a 15:\")\n",
    "x[(x >= 9) & (x <= 15)] *= -1\n",
    "print(x)"
   ]
  },
  {
   "cell_type": "code",
   "execution_count": 27,
   "id": "d491146d",
   "metadata": {},
   "outputs": [
    {
     "name": "stdout",
     "output_type": "stream",
     "text": [
      "Vector de longitud 5 lleno de números enteros arbitrarios de 0 a 10:\n",
      "[0 5 8 7 3]\n"
     ]
    }
   ],
   "source": [
    "#ejercicio 23. Escriba un programa NumPy para crear un vector de longitud 5 lleno de números enteros arbitrarios del 0 al 10.\n",
    "import numpy as np\n",
    "x = np.random.randint(0, 11, 5)\n",
    "print(\"Vector de longitud 5 lleno de números enteros arbitrarios de 0 a 10:\")\n",
    "print(x)"
   ]
  },
  {
   "cell_type": "code",
   "execution_count": 28,
   "id": "0b0e135d",
   "metadata": {},
   "outputs": [
    {
     "name": "stdout",
     "output_type": "stream",
     "text": [
      "Vector1\n",
      "[1 4 3 9]\n",
      "Vector2\n",
      "[3 1 3 0]\n",
      "Multiplica los valores de dos de dichos vectores:\n",
      "[3 4 9 0]\n"
     ]
    }
   ],
   "source": [
    "#ejercicio 24. Escriba un programa NumPy para multiplicar los valores de dos vectores dados.\n",
    "import numpy as np\n",
    "x = np.array([1, 4, 3, 9])\n",
    "print(\"Vector1\")\n",
    "print(x)\n",
    "y= np.random.randint(0, 11, 4)\n",
    "print(\"Vector2\")\n",
    "print(y)\n",
    "result = x * y\n",
    "print(\"Multiplica los valores de dos de dichos vectores:\")\n",
    "print(result)"
   ]
  },
  {
   "cell_type": "code",
   "execution_count": 29,
   "id": "651579ac",
   "metadata": {},
   "outputs": [
    {
     "name": "stdout",
     "output_type": "stream",
     "text": [
      "[[10 11 12 13]\n",
      " [14 15 16 17]\n",
      " [18 19 20 21]]\n"
     ]
    }
   ],
   "source": [
    "#ejercicio 25. Escriba un programa NumPy para crear una matriz de 3x4 llena de valores del 10 al 21\n",
    "import numpy as np\n",
    "matriz= np.arange(10,22).reshape((3, 4))\n",
    "print(matriz)"
   ]
  },
  {
   "cell_type": "code",
   "execution_count": null,
   "id": "0b204d49",
   "metadata": {},
   "outputs": [],
   "source": []
  }
 ],
 "metadata": {
  "kernelspec": {
   "display_name": "Python 3 (ipykernel)",
   "language": "python",
   "name": "python3"
  },
  "language_info": {
   "codemirror_mode": {
    "name": "ipython",
    "version": 3
   },
   "file_extension": ".py",
   "mimetype": "text/x-python",
   "name": "python",
   "nbconvert_exporter": "python",
   "pygments_lexer": "ipython3",
   "version": "3.10.5"
  }
 },
 "nbformat": 4,
 "nbformat_minor": 5
}
