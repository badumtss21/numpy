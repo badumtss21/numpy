{
 "cells": [
  {
   "cell_type": "code",
   "execution_count": 2,
   "id": "de2abcfd",
   "metadata": {},
   "outputs": [
    {
     "name": "stdout",
     "output_type": "stream",
     "text": [
      "matriz Original:\n",
      "[[10 11 12 13]\n",
      " [14 15 16 17]\n",
      " [18 19 20 21]]\n",
      "Número de filas y columnas de dicha matriz:\n",
      "(3, 4)\n"
     ]
    }
   ],
   "source": [
    "#ejercicio 26. Escriba un programa NumPy para encontrar el número de filas y columnas de una matriz dada.\n",
    "import numpy as np\n",
    "a= np.arange(10,22).reshape((3, 4))\n",
    "print(\"matriz Original:\")\n",
    "print(a)\n",
    "print(\"Número de filas y columnas de dicha matriz:\")\n",
    "print(a.shape)"
   ]
  },
  {
   "cell_type": "code",
   "execution_count": 6,
   "id": "e6344ee6",
   "metadata": {},
   "outputs": [
    {
     "name": "stdout",
     "output_type": "stream",
     "text": [
      "[[1 0 0]\n",
      " [0 1 0]\n",
      " [0 0 1]]\n"
     ]
    }
   ],
   "source": [
    "#ejercicio 27. Escriba un programa NumPy para crear una matriz identidad de 3x3, es decir, \n",
    "#los elementos diagonales son 1, el resto son 0.\n",
    "import numpy as np\n",
    "x = np.eye(3)\n",
    "print(x)"
   ]
  },
  {
   "cell_type": "code",
   "execution_count": 4,
   "id": "7b89653e",
   "metadata": {},
   "outputs": [
    {
     "name": "stdout",
     "output_type": "stream",
     "text": [
      "[[1. 1. 1. 1. 1. 1. 1. 1. 1. 1.]\n",
      " [1. 0. 0. 0. 0. 0. 0. 0. 0. 1.]\n",
      " [1. 0. 0. 0. 0. 0. 0. 0. 0. 1.]\n",
      " [1. 0. 0. 0. 0. 0. 0. 0. 0. 1.]\n",
      " [1. 0. 0. 0. 0. 0. 0. 0. 0. 1.]\n",
      " [1. 0. 0. 0. 0. 0. 0. 0. 0. 1.]\n",
      " [1. 0. 0. 0. 0. 0. 0. 0. 0. 1.]\n",
      " [1. 0. 0. 0. 0. 0. 0. 0. 0. 1.]\n",
      " [1. 0. 0. 0. 0. 0. 0. 0. 0. 1.]\n",
      " [1. 1. 1. 1. 1. 1. 1. 1. 1. 1.]]\n"
     ]
    }
   ],
   "source": [
    "#ejercicio 28. Escriba un programa NumPy para crear una matriz de 10x10,\n",
    "# en la que los elementos en los bordes serán iguales a 1 y dentro de 0.\n",
    "import numpy as np\n",
    "x = np.ones((10, 10))\n",
    "x[1:-1, 1:-1] = 0\n",
    "print(x)"
   ]
  },
  {
   "cell_type": "code",
   "execution_count": 5,
   "id": "d26a11ee",
   "metadata": {},
   "outputs": [
    {
     "name": "stdout",
     "output_type": "stream",
     "text": [
      "[[1 0 0 0 0]\n",
      " [0 2 0 0 0]\n",
      " [0 0 3 0 0]\n",
      " [0 0 0 4 0]\n",
      " [0 0 0 0 5]]\n"
     ]
    }
   ],
   "source": [
    "#ejercicio 29. Escriba un programa NumPy para crear una matriz cero de 5x5 con elementos \n",
    "#en la diagonal principal iguales a 1, 2, 3, 4, 5.\n",
    "import numpy as np\n",
    "x = np.diag([1, 2, 3, 4, 5])\n",
    "print(x)"
   ]
  },
  {
   "cell_type": "code",
   "execution_count": 7,
   "id": "40d3f84a",
   "metadata": {},
   "outputs": [
    {
     "name": "stdout",
     "output_type": "stream",
     "text": [
      "[[0. 1. 0. 1.]\n",
      " [1. 0. 1. 0.]\n",
      " [0. 1. 0. 1.]\n",
      " [1. 0. 1. 0.]]\n"
     ]
    }
   ],
   "source": [
    "#ejercicio 30. Escriba un programa NumPy para crear una matriz de 4x4 \n",
    "#en la que el 0 y el 1 estén escalonados, con ceros en la diagonal principal.\n",
    "import numpy as np\n",
    "x = np.zeros((4, 4))\n",
    "x[::2, 1::2] = 1\n",
    "x[1::2, ::2] = 1\n",
    "print(x)"
   ]
  },
  {
   "cell_type": "code",
   "execution_count": 10,
   "id": "8423152e",
   "metadata": {},
   "outputs": [
    {
     "name": "stdout",
     "output_type": "stream",
     "text": [
      "[[[0.92227832 0.5255105  0.5522622 ]\n",
      "  [0.38547185 0.41746932 0.97370032]\n",
      "  [0.51053943 0.01255469 0.25127544]]\n",
      "\n",
      " [[0.35676167 0.76333781 0.0016274 ]\n",
      "  [0.01262161 0.8004123  0.5867591 ]\n",
      "  [0.61238396 0.05492351 0.91602529]]\n",
      "\n",
      " [[0.71895294 0.72308968 0.61262238]\n",
      "  [0.01185101 0.34495312 0.62896186]\n",
      "  [0.12948027 0.18625782 0.98730885]]]\n"
     ]
    }
   ],
   "source": [
    "#ejercicio 31. Escriba un programa NumPy para crear una matriz de 3x3x3 llena de valores arbitrarios.\n",
    "import numpy as np\n",
    "x = np.random.random((3, 3, 3))\n",
    "print(x)"
   ]
  },
  {
   "cell_type": "code",
   "execution_count": 12,
   "id": "d2b9435e",
   "metadata": {},
   "outputs": [
    {
     "name": "stdout",
     "output_type": "stream",
     "text": [
      "matriz original:\n",
      "[[5 1]\n",
      " [5 8]]\n",
      "Suma de todos los elementos:\n",
      "19\n",
      "Suma de cada columna:\n",
      "[10  9]\n",
      "Sum de cada fila:\n",
      "[ 6 13]\n"
     ]
    }
   ],
   "source": [
    "#ejercicio 32. Escriba un programa NumPy para calcular la suma de todos los elementos, \n",
    "#la suma de cada columna y la suma de cada fila de una matriz dada\n",
    "import numpy as np\n",
    "x = np.array([[5,1],[5,8]])\n",
    "print(\"matriz original:\")\n",
    "print(x)\n",
    "print(\"Suma de todos los elementos:\")\n",
    "print(np.sum(x))\n",
    "print(\"Suma de cada columna:\")\n",
    "print(np.sum(x, axis=0))\n",
    "print(\"Sum de cada fila:\")\n",
    "print(np.sum(x, axis=1))"
   ]
  },
  {
   "cell_type": "code",
   "execution_count": 13,
   "id": "95e11638",
   "metadata": {},
   "outputs": [
    {
     "name": "stdout",
     "output_type": "stream",
     "text": [
      "vectores Originales:\n",
      "[4 5]\n",
      "[ 7 10]\n",
      "Producto interior de dichos vectores:\n",
      "78\n"
     ]
    }
   ],
   "source": [
    "#ejercicio 33. Escriba un programa NumPy para calcular el producto interno de dos vectores dados.\n",
    "import numpy as np\n",
    "x = np.array([4, 5])\n",
    "y = np.array([7, 10])\n",
    "print(\"vectores Originales:\")\n",
    "print(x)\n",
    "print(y)\n",
    "print(\"Producto interior de dichos vectores:\")\n",
    "print(np.dot(x, y))"
   ]
  },
  {
   "cell_type": "code",
   "execution_count": 15,
   "id": "61e7f873",
   "metadata": {},
   "outputs": [
    {
     "name": "stdout",
     "output_type": "stream",
     "text": [
      "vector Original :\n",
      "[4 0 3]\n",
      "matriz Original:\n",
      "[[ 1  2  3]\n",
      " [ 4  5  6]\n",
      " [ 7  8  9]\n",
      " [10 11 12]]\n",
      "suma del vector v a cada fila de la matriz m:\n",
      "[[ 5  2  6]\n",
      " [ 8  5  9]\n",
      " [11  8 12]\n",
      " [14 11 15]]\n"
     ]
    }
   ],
   "source": [
    "#ejercicio 34. Escriba un programa NumPy para agregar un vector a cada fila de una matriz dada.\n",
    "import numpy as np\n",
    "m = np.array([[1,2,3], [4,5,6], [7,8,9], [10, 11, 12]])\n",
    "v = np.array([4, 0, 3])\n",
    "print(\"vector Original :\")\n",
    "print(v)\n",
    "print(\"matriz Original:\")\n",
    "print(m)\n",
    "result = np.empty_like(m) \n",
    "for i in range(4):\n",
    "  result[i, :] = m[i, :] + v\n",
    "print(\"suma del vector v a cada fila de la matriz m:\")\n",
    "print(result)"
   ]
  },
  {
   "cell_type": "code",
   "execution_count": 17,
   "id": "79f2d784",
   "metadata": {},
   "outputs": [
    {
     "name": "stdout",
     "output_type": "stream",
     "text": [
      "Comprobar si 'matriz.npy' existe o no\n",
      "True\n"
     ]
    }
   ],
   "source": [
    "#ejercicio 35. Escriba un programa NumPy para guardar una matriz determinada en un archivo binario.\n",
    "import numpy as np\n",
    "import os\n",
    "a = np.arange(20)\n",
    "np.save('matriz.npy', a)\n",
    "print(\"Comprobar si 'matriz.npy' existe o no\")\n",
    "if os.path.exists('matriz.npy'):\n",
    "    x2 = np.load('matriz.npy')\n",
    "    print(np.array_equal(a, x2))"
   ]
  },
  {
   "cell_type": "code",
   "execution_count": 19,
   "id": "ed738a69",
   "metadata": {},
   "outputs": [
    {
     "name": "stdout",
     "output_type": "stream",
     "text": [
      "arreglos originales:\n",
      "[0 1 2 3 4 5 6 7 8 9]\n",
      "[11 12 13 14 15 16 17 18 19]\n",
      "Cargue matrices desde el archivo 'matriz.npz':\n",
      "[0 1 2 3 4 5 6 7 8 9]\n",
      "[11 12 13 14 15 16 17 18 19]\n"
     ]
    }
   ],
   "source": [
    "#ejercicio 36. Escriba un programa NumPy para guardar dos matrices dadas en un solo archivo \n",
    "#en formato comprimido (formato .npz) y cárguelo.\n",
    "import numpy as np\n",
    "import os\n",
    "x = np.arange(10)\n",
    "y = np.arange(11, 20)\n",
    "print(\"arreglos originales:\")\n",
    "print(x)\n",
    "print(y)\n",
    "np.savez('matriz.npz', x=x, y=y)\n",
    "print(\"Cargue matrices desde el archivo 'matriz.npz':\")\n",
    "with np.load('matriz.npz') as data:\n",
    "    x2 = data['x']\n",
    "    y2 = data['y']\n",
    "    print(x2)\n",
    "    print(y2)"
   ]
  },
  {
   "cell_type": "code",
   "execution_count": 20,
   "id": "2c5fe3ae",
   "metadata": {},
   "outputs": [
    {
     "name": "stdout",
     "output_type": "stream",
     "text": [
      "matriz original:\n",
      "[[ 0  1  2]\n",
      " [ 3  4  5]\n",
      " [ 6  7  8]\n",
      " [ 9 10 11]]\n",
      "Después de cargar; contenido del archivo de texto\n",
      "[[ 0.  1.  2.]\n",
      " [ 3.  4.  5.]\n",
      " [ 6.  7.  8.]\n",
      " [ 9. 10. 11.]]\n"
     ]
    }
   ],
   "source": [
    "#ejercicio 37. Escriba un programa NumPy para guardar una matriz determinada en un archivo de texto y cargarlo.\n",
    "import numpy as np\n",
    "import os\n",
    "x = np.arange(12).reshape(4, 3)\n",
    "print(\"matriz original:\")\n",
    "print(x)\n",
    "header = 'col1 col2 col3'\n",
    "np.savetxt('temp.txt', x, fmt=\"%d\", header=header) \n",
    "print(\"Después de cargar; contenido del archivo de texto\")\n",
    "result = np.loadtxt('temp.txt')\n",
    "print(result)"
   ]
  },
  {
   "cell_type": "code",
   "execution_count": 21,
   "id": "251da3c8",
   "metadata": {},
   "outputs": [
    {
     "name": "stdout",
     "output_type": "stream",
     "text": [
      "matriz original:\n",
      "[1 2 3 4 5 6]\n",
      "Después de cargar; contenido del archivo de texto:\n",
      "[1 2 3 4 5 6]\n",
      "True\n"
     ]
    }
   ],
   "source": [
    "#ejercicio 38. Escriba un programa NumPy para convertir una matriz determinada en bytes y cárguela como matriz.\n",
    "import numpy as np\n",
    "import os\n",
    "a = np.array([1, 2, 3, 4, 5, 6])\n",
    "print(\"matriz original:\")\n",
    "print(a)\n",
    "a_bytes = a.tobytes()\n",
    "a2 = np.frombuffer(a_bytes, dtype=a.dtype)\n",
    "print(\"Después de cargar; contenido del archivo de texto:\")\n",
    "print(a2)\n",
    "print(np.array_equal(a, a2))"
   ]
  },
  {
   "cell_type": "code",
   "execution_count": 22,
   "id": "f87e61fe",
   "metadata": {},
   "outputs": [
    {
     "name": "stdout",
     "output_type": "stream",
     "text": [
      "True\n"
     ]
    }
   ],
   "source": [
    "#ejercicio 39. Escriba un programa NumPy para convertir una lista dada en una matriz, luego vuelva a convertirla en una lista. \n",
    "#Comprobar si la lista inicial y la lista final son iguales o no\n",
    "import numpy as np\n",
    "a = [[1, 2], [3, 4]]\n",
    "x = np.array(a)\n",
    "a2 = x.tolist()\n",
    "print(a == a2)"
   ]
  },
  {
   "cell_type": "code",
   "execution_count": 2,
   "id": "2bc54c1c",
   "metadata": {},
   "outputs": [
    {
     "name": "stdout",
     "output_type": "stream",
     "text": [
      "Grafique los puntos usando matplotlib:\n"
     ]
    },
    {
     "data": {
      "image/png": "[encoded data removed]",
      "text/plain": [
       "<Figure size 432x288 with 1 Axes>"
      ]
     },
     "metadata": {
      "needs_background": "light"
     },
     "output_type": "display_data"
    }
   ],
   "source": [
    "#ejercicio 40. Escriba un programa NumPy para calcular las coordenadas x e y de los puntos en una curva sinusoidal \n",
    "#y trace los puntos usando matplotlib\n",
    "import numpy as np\n",
    "import matplotlib.pyplot as plt\n",
    "# Compute the x and y coordinates for points on a sine curve\n",
    "x = np.arange(0, 4 * np.pi, 0.3)\n",
    "y = np.sin(x)\n",
    "print(\"Grafique los puntos usando matplotlib:\")\n",
    "plt.plot(x, y)\n",
    "plt.show()"
   ]
  },
  {
   "cell_type": "code",
   "execution_count": 3,
   "id": "317e1feb",
   "metadata": {},
   "outputs": [
    {
     "name": "stdout",
     "output_type": "stream",
     "text": [
      "numpy.float32 a python flotante\n",
      "<class 'numpy.float32'>\n",
      "<class 'float'>\n"
     ]
    }
   ],
   "source": [
    "#ejercicio 41. Escriba un programa NumPy para convertir numpy dtypes en tipos de python nativos.\n",
    "import numpy as np\n",
    "print(\"numpy.float32 a python flotante\")\n",
    "x = np.float32(0)\n",
    "print(type(x))\n",
    "pyval = x.item()\n",
    "print(type(pyval))"
   ]
  },
  {
   "cell_type": "code",
   "execution_count": 4,
   "id": "c7f134df",
   "metadata": {},
   "outputs": [
    {
     "name": "stdout",
     "output_type": "stream",
     "text": [
      "matriz Original:\n",
      "[[1, 1, 0, 2], [0, 3, 0, 3], [1, 0, 4, 4]]\n",
      "Suma:\n",
      "14\n"
     ]
    }
   ],
   "source": [
    "#ejercicip 42. Escriba un programa NumPy para agregar elementos en una matriz. Si un elemento en la matriz es 0,\n",
    "# no agregaremos el elemento debajo de este elemento.\n",
    "import numpy as np\n",
    "def sum_matrix_Elements(m):\n",
    "    arra = np.array(m)   \n",
    "    element_sum = 0  \n",
    "    for p in range(len(arra)):  \n",
    "        for q in range(len(arra[p])):  \n",
    "            if arra[p][q] == 0 and p < len(arra)-1: \n",
    "                arra[p+1][q] = 0  \n",
    "            element_sum += arra[p][q]  \n",
    "    return element_sum\n",
    "m = [[1, 1, 0, 2],\n",
    "          [0, 3, 0, 3], \n",
    "          [1, 0, 4, 4]]\n",
    "print(\"matriz Original:\")\n",
    "print(m)\n",
    "print(\"Suma:\")\n",
    "print(sum_matrix_Elements(m))"
   ]
  },
  {
   "cell_type": "code",
   "execution_count": 5,
   "id": "5e2d1483",
   "metadata": {},
   "outputs": [
    {
     "name": "stdout",
     "output_type": "stream",
     "text": [
      "matriz Original:\n",
      "[[ 3.  2. nan  1.]\n",
      " [10. 12. 10.  9.]\n",
      " [ 5. nan  1. nan]]\n",
      "Encuentre los datos faltantes de dicha matriz:\n",
      "[[False False  True False]\n",
      " [False False False False]\n",
      " [False  True False  True]]\n"
     ]
    }
   ],
   "source": [
    "#ejercicio 43. Escriba un programa NumPy para encontrar los datos que faltan en una matriz determinada.\n",
    "import numpy as np \n",
    " \n",
    "nums = np.array([[3, 2, np.nan, 1],\n",
    "              [10, 12, 10, 9],\n",
    "              [5, np.nan, 1, np.nan]])\n",
    "\n",
    "print(\"matriz Original:\") \n",
    "print(nums)\n",
    "print(\"Encuentre los datos faltantes de dicha matriz:\")\n",
    "print(np.isnan(nums))"
   ]
  },
  {
   "cell_type": "code",
   "execution_count": 8,
   "id": "29819d35",
   "metadata": {},
   "outputs": [
    {
     "name": "stdout",
     "output_type": "stream",
     "text": [
      "arreglos originales:\n",
      "[0.8 1.5 2.1]\n",
      "[0.89999999 1.5        2.1       ]\n",
      "¿dos matrices son iguales (elemento a elemento)?\n",
      "[False  True  True]\n",
      "\n",
      "Original arrays:\n",
      "[0.8  1.5  0.23]\n",
      "[0.89999999 1.50000001 2.11      ]\n",
      "¿dos matrices son iguales (elemento a elemento)?\n",
      "[False False False]\n"
     ]
    }
   ],
   "source": [
    "#ejercicio 44. Escriba un programa NumPy para verificar si dos matrices son iguales (en cuanto a los elementos) o no.\n",
    "import numpy as np\n",
    "nums1 = np.array([0.8, 1.5, 2.1])\n",
    "nums2 = np.array([0.89999999, 1.5000000, 2.1])\n",
    "np.set_printoptions(precision=15)\n",
    "print(\"arreglos originales:\")\n",
    "print(nums1)\n",
    "print(nums2)\n",
    "print(\"¿dos matrices son iguales (elemento a elemento)?\")\n",
    "print(nums1 == nums2)\n",
    "nums1 = np.array([0.8, 1.5, 0.23])\n",
    "nums2 = np.array([0.89999999, 1.50000001, 2.11])\n",
    "print(\"\\nOriginal arrays:\")\n",
    "np.set_printoptions(precision=15)\n",
    "print(nums1)\n",
    "print(nums2)\n",
    "print(\"¿dos matrices son iguales (elemento a elemento)?\")\n",
    "print(np.equal(nums1, nums2))"
   ]
  },
  {
   "cell_type": "code",
   "execution_count": 9,
   "id": "9e745d99",
   "metadata": {},
   "outputs": [
    {
     "name": "stdout",
     "output_type": "stream",
     "text": [
      "Matriz unidimensional de números de un solo dígito:\n",
      "[1 2 3 4 5 6 7 8 9]\n",
      "Matriz unidimensional de números de dos dígitos:\n",
      "[10 11 12 13 14 15 16 17 18 19 20 21 22 23 24 25 26 27 28 29 30 31 32 33\n",
      " 34 35 36 37 38 39 40 41 42 43 44 45 46 47 48 49 50 51 52 53 54 55 56 57\n",
      " 58 59 60 61 62 63 64 65 66 67 68 69 70 71 72 73 74 75 76 77 78 79 80 81\n",
      " 82 83 84 85 86 87 88 89 90 91 92 93 94 95 96 97 98 99]\n",
      "Matriz unidimensional de números tres solo dígitos:\n",
      "[100 101 102 103 104 105 106 107 108 109 110 111 112 113 114 115 116 117\n",
      " 118 119 120 121 122 123 124 125 126 127 128 129 130 131 132 133 134 135\n",
      " 136 137 138 139 140 141 142 143 144 145 146 147 148 149 150 151 152 153\n",
      " 154 155 156 157 158 159 160 161 162 163 164 165 166 167 168 169 170 171\n",
      " 172 173 174 175 176 177 178 179 180 181 182 183 184 185 186 187 188 189\n",
      " 190 191 192 193 194 195 196 197 198 199 200]\n"
     ]
    }
   ],
   "source": [
    "#ejercicio 45. Escriba un programa NumPy para crear una matriz unidimensional de números de uno, dos y tres dígitos.\n",
    "import numpy as np  \n",
    "nums = np.arange(1, 10)\n",
    "print(\"Matriz unidimensional de números de un solo dígito:\") \n",
    "print(nums)\n",
    "nums = np.arange(10, 100)\n",
    "print(\"Matriz unidimensional de números de dos dígitos:\") \n",
    "print(nums)\n",
    "nums = np.arange(100, 201)\n",
    "print(\"Matriz unidimensional de números tres solo dígitos:\") \n",
    "print(nums)"
   ]
  },
  {
   "cell_type": "code",
   "execution_count": 10,
   "id": "5a17e419",
   "metadata": {},
   "outputs": [
    {
     "name": "stdout",
     "output_type": "stream",
     "text": [
      "Cree una matriz de forma (15,10):\n",
      "Commando1\n",
      "[[  1   2   3   4   5   6   7   8   9  10]\n",
      " [ 11  12  13  14  15  16  17  18  19  20]\n",
      " [ 21  22  23  24  25  26  27  28  29  30]\n",
      " [ 31  32  33  34  35  36  37  38  39  40]\n",
      " [ 41  42  43  44  45  46  47  48  49  50]\n",
      " [ 51  52  53  54  55  56  57  58  59  60]\n",
      " [ 61  62  63  64  65  66  67  68  69  70]\n",
      " [ 71  72  73  74  75  76  77  78  79  80]\n",
      " [ 81  82  83  84  85  86  87  88  89  90]\n",
      " [ 91  92  93  94  95  96  97  98  99 100]\n",
      " [101 102 103 104 105 106 107 108 109 110]\n",
      " [111 112 113 114 115 116 117 118 119 120]\n",
      " [121 122 123 124 125 126 127 128 129 130]\n",
      " [131 132 133 134 135 136 137 138 139 140]\n",
      " [141 142 143 144 145 146 147 148 149 150]]\n",
      "Commando2\n",
      "[[  1   2   3   4   5   6   7   8   9  10]\n",
      " [ 11  12  13  14  15  16  17  18  19  20]\n",
      " [ 21  22  23  24  25  26  27  28  29  30]\n",
      " [ 31  32  33  34  35  36  37  38  39  40]\n",
      " [ 41  42  43  44  45  46  47  48  49  50]\n",
      " [ 51  52  53  54  55  56  57  58  59  60]\n",
      " [ 61  62  63  64  65  66  67  68  69  70]\n",
      " [ 71  72  73  74  75  76  77  78  79  80]\n",
      " [ 81  82  83  84  85  86  87  88  89  90]\n",
      " [ 91  92  93  94  95  96  97  98  99 100]\n",
      " [101 102 103 104 105 106 107 108 109 110]\n",
      " [111 112 113 114 115 116 117 118 119 120]\n",
      " [121 122 123 124 125 126 127 128 129 130]\n",
      " [131 132 133 134 135 136 137 138 139 140]\n",
      " [141 142 143 144 145 146 147 148 149 150]]\n",
      "Command3\n",
      "[[  1   2   3   4   5   6   7   8   9  10]\n",
      " [ 11  12  13  14  15  16  17  18  19  20]\n",
      " [ 21  22  23  24  25  26  27  28  29  30]\n",
      " [ 31  32  33  34  35  36  37  38  39  40]\n",
      " [ 41  42  43  44  45  46  47  48  49  50]\n",
      " [ 51  52  53  54  55  56  57  58  59  60]\n",
      " [ 61  62  63  64  65  66  67  68  69  70]\n",
      " [ 71  72  73  74  75  76  77  78  79  80]\n",
      " [ 81  82  83  84  85  86  87  88  89  90]\n",
      " [ 91  92  93  94  95  96  97  98  99 100]\n",
      " [101 102 103 104 105 106 107 108 109 110]\n",
      " [111 112 113 114 115 116 117 118 119 120]\n",
      " [121 122 123 124 125 126 127 128 129 130]\n",
      " [131 132 133 134 135 136 137 138 139 140]\n",
      " [141 142 143 144 145 146 147 148 149 150]]\n"
     ]
    }
   ],
   "source": [
    "#ejercicio 46. Escriba un programa NumPy para crear una matriz bidimensional de formato especificado.\n",
    "import numpy as np   \n",
    "print(\"Cree una matriz de forma (15,10):\") \n",
    "print(\"Commando1\")\n",
    "print(np.arange(1, 151).reshape(15, 10)) \n",
    "print(\"Commando2\")\n",
    "print(np.arange(1, 151).reshape(-1, 10)) \n",
    "print(\"Command3\")\n",
    "print(np.arange(1, 151).reshape(15, -1))"
   ]
  },
  {
   "cell_type": "code",
   "execution_count": 11,
   "id": "1d6becf2",
   "metadata": {},
   "outputs": [
    {
     "name": "stdout",
     "output_type": "stream",
     "text": [
      "[0.771320643266746 0.020751949359402 0.633648234926275 0.748803882538612\n",
      " 0.49850701230259  0.224796645530848 0.198062864759624 0.760530712198959\n",
      " 0.169110836562535 0.08833981417401  0.685359818367797 0.953393346194937\n",
      " 0.003948266327914 0.512192263385777 0.812620961652114 0.612526066829388\n",
      " 0.7217553174318   0.291876068170633 0.917774122512943 0.714575783397691\n",
      " 0.542544368011261 0.142170047601527 0.373340760051469 0.674133615066345\n",
      " 0.441833174422996 0.434013993333294 0.617766978469317 0.513138242554391\n",
      " 0.650397181931467 0.601038953404544 0.805223196832746 0.521647152393634\n",
      " 0.908648880808668 0.319236088988545 0.090459349270907 0.300700056636203\n",
      " 0.11398436186355  0.828681326307677 0.04689631938925  0.626287148311393]\n"
     ]
    }
   ],
   "source": [
    "#ejercicio 47. Escriba un programa NumPy para crear una matriz unidimensional de cuarenta valores generados \n",
    "#pseudoaleatoriamente. Seleccione números aleatorios de una distribución uniforme entre 0 y 1.\n",
    "import numpy as np  \n",
    "np.random.seed(10)\n",
    "print(np.random.rand(40))"
   ]
  },
  {
   "cell_type": "code",
   "execution_count": 12,
   "id": "e5f2ddae",
   "metadata": {},
   "outputs": [
    {
     "name": "stdout",
     "output_type": "stream",
     "text": [
      "[[201.69082669736346 200.3746763082702  200.68394275021677\n",
      "  195.51750123129818]\n",
      " [197.92478991563303 201.07066048488275 201.79714021459858\n",
      "  198.12823310277952]\n",
      " [200.96238963339914 200.77744291067876 200.61875865227867\n",
      "  199.05613893807728]\n",
      " [198.48492638364303 198.38860811141893 197.55239946005003\n",
      "  200.47003620983824]\n",
      " [199.9154583876559  202.99877319355295 202.01069856971475\n",
      "  200.77735483308504]\n",
      " [199.67739161408255 193.89831807071494 202.14273592752286\n",
      "  202.54951299405823]\n",
      " [199.53450968631876 199.75126019761723 199.791457270905\n",
      "  202.97687756587686]\n",
      " [200.24634412660365 196.0460693352411  198.3061125324022\n",
      "  197.88701546225133]\n",
      " [201.7845091237894  203.94032834458278 198.21152802602944\n",
      "  196.9144607143198 ]\n",
      " [201.0082480992413  197.03285103581035 200.6305276348363\n",
      "  197.82590294139914]]\n"
     ]
    }
   ],
   "source": [
    "#ejercicio 48. Escriba un programa NumPy para crear una matriz bidimensional con forma (8,5) de números aleatorios.\n",
    "# Seleccione números aleatorios de una distribución normal (200,7).\n",
    "import numpy as np \n",
    "np.random.seed(20) \n",
    "cbrt = np.cbrt(7)\n",
    "nd1 = 200 \n",
    "print(cbrt * np.random.randn(10, 4) + nd1) "
   ]
  },
  {
   "cell_type": "code",
   "execution_count": 13,
   "id": "59dad5cd",
   "metadata": {},
   "outputs": [
    {
     "name": "stdout",
     "output_type": "stream",
     "text": [
      "Genere una muestra aleatoria uniforme con reemplazo:\n",
      "[2 2 1 5 2]\n",
      "Genere una muestra aleatoria uniforme sin reemplazo:\n",
      "[6 3 5 4 2]\n",
      "Genere una muestra aleatoria no uniforme con reemplazo:\n",
      "[6 1 6 0 1]\n",
      "Genere una muestra aleatoria no uniforme sin reemplazo:\n",
      "[1 6 4 3 0]\n"
     ]
    }
   ],
   "source": [
    "#ejercicio 49. Escriba un programa NumPy para generar una muestra aleatoria uniforme y no uniforme \n",
    "#de una matriz 1-D dada con y sin reemplazo.\n",
    "import numpy as np \n",
    "print(\"Genere una muestra aleatoria uniforme con reemplazo:\") \n",
    "print(np.random.choice(7, 5))\n",
    "print(\"Genere una muestra aleatoria uniforme sin reemplazo:\") \n",
    "print(np.random.choice(7, 5, replace=False))\n",
    "print(\"Genere una muestra aleatoria no uniforme con reemplazo:\") \n",
    "print(np.random.choice(7, 5, p=[0.1, 0.2, 0, 0.2, 0.4, 0, 0.1]))\n",
    "print(\"Genere una muestra aleatoria no uniforme sin reemplazo:\") \n",
    "print(np.random.choice(7, 5, replace=False, p=[0.1, 0.2, 0, 0.2, 0.4, 0, 0.1])) "
   ]
  },
  {
   "cell_type": "code",
   "execution_count": 14,
   "id": "18a5131b",
   "metadata": {},
   "outputs": [
    {
     "name": "stdout",
     "output_type": "stream",
     "text": [
      "matriz original:\n",
      "[[ 0  1  2  3]\n",
      " [ 4  5  6  7]\n",
      " [ 8  9 10 11]\n",
      " [12 13 14 15]]\n",
      "Nueva matriz después de intercambiar la primera y la última fila de dicha matriz:\n",
      "[[12 13 14 15]\n",
      " [ 4  5  6  7]\n",
      " [ 8  9 10 11]\n",
      " [ 0  1  2  3]]\n"
     ]
    }
   ],
   "source": [
    "#ejercicio 50. Escriba un programa NumPy para crear una matriz de 4x4 con valores aleatorios, ahora cree una nueva matriz \n",
    "#a partir de dicha matriz intercambiando la primera y la última fila.\n",
    "import numpy as np\n",
    "nums = np.arange(16, dtype='int').reshape(-1, 4)\n",
    "print(\"matriz original:\")\n",
    "print(nums)\n",
    "print(\"Nueva matriz después de intercambiar la primera y la última fila de dicha matriz:\")\n",
    "nums[[0,-1],:]=nums[[-1,0],:]\n",
    "print(nums)"
   ]
  },
  {
   "cell_type": "code",
   "execution_count": null,
   "id": "72eaf99c",
   "metadata": {},
   "outputs": [],
   "source": []
  }
 ],
 "metadata": {
  "kernelspec": {
   "display_name": "Python 3 (ipykernel)",
   "language": "python",
   "name": "python3"
  },
  "language_info": {
   "codemirror_mode": {
    "name": "ipython",
    "version": 3
   },
   "file_extension": ".py",
   "mimetype": "text/x-python",
   "name": "python",
   "nbconvert_exporter": "python",
   "pygments_lexer": "ipython3",
   "version": "3.10.5"
  }
 },
 "nbformat": 4,
 "nbformat_minor": 5
}
